{
 "cells": [
  {
   "cell_type": "markdown",
   "id": "e7db950f",
   "metadata": {},
   "source": [
    "### PORTSTEMMER"
   ]
  },
  {
   "cell_type": "code",
   "execution_count": 11,
   "id": "574125c9",
   "metadata": {},
   "outputs": [
    {
     "name": "stdout",
     "output_type": "stream",
     "text": [
      "['run', 'play', 'better', 'happili', 'fli', 'crying,', 'eat']\n"
     ]
    }
   ],
   "source": [
    "from nltk.stem import PorterStemmer\n",
    "port_stemmer=PorterStemmer()\n",
    "words = [\"running\", \"played\", \"better\", \"happily\", \"flies\", \"crying,\",\"eating\"]\n",
    "stremmer_words=[port_stemmer.stem(word) for word in words]\n",
    "print(stremmer_words)"
   ]
  },
  {
   "cell_type": "markdown",
   "id": "fb985c1e",
   "metadata": {},
   "source": [
    "### REGEXSTEMMER"
   ]
  },
  {
   "cell_type": "code",
   "execution_count": 10,
   "id": "f9bb3504",
   "metadata": {},
   "outputs": [
    {
     "name": "stdout",
     "output_type": "stream",
     "text": [
      "['runn', 'played', 'better', 'happi', 'fli', 'ingcry']\n"
     ]
    }
   ],
   "source": [
    "from nltk.stem import RegexpStemmer\n",
    "regex_stemmer=RegexpStemmer(r'ing$|es$|ly$|s$',min=4)\n",
    "words = [\"running\", \"played\", \"better\", \"happily\", \"flies\", \"ingcrying\"]\n",
    "stemmmer_words=[regex_stemmer.stem(word) for word in words]\n",
    "print(stemmmer_words)"
   ]
  },
  {
   "cell_type": "markdown",
   "id": "098d79c5",
   "metadata": {},
   "source": [
    "### SNOWBALLSTEMMER"
   ]
  },
  {
   "cell_type": "code",
   "execution_count": 13,
   "id": "3c335a92",
   "metadata": {},
   "outputs": [
    {
     "name": "stdout",
     "output_type": "stream",
     "text": [
      "['run', 'play', 'better', 'happili', 'fli', 'ingcri']\n"
     ]
    }
   ],
   "source": [
    "from nltk.stem import SnowballStemmer\n",
    "snowball_stemmer=SnowballStemmer('english')\n",
    "words = [\"running\", \"played\", \"better\", \"happily\", \"flies\", \"ingcrying\"]\n",
    "stemmmer_words=[snowball_stemmer.stem(word) for word in words]\n",
    "print(stemmmer_words)"
   ]
  },
  {
   "cell_type": "markdown",
   "id": "fafca74b",
   "metadata": {},
   "source": [
    "### COMPARISON"
   ]
  },
  {
   "cell_type": "code",
   "execution_count": null,
   "id": "a0a4b2f1",
   "metadata": {},
   "outputs": [
    {
     "name": "stdout",
     "output_type": "stream",
     "text": [
      "['fairli', 'sportingli']\n",
      "['fair', 'sporting']\n",
      "['fair', 'sport']\n"
     ]
    }
   ],
   "source": [
    "words=['fairly','sportingly']\n",
    "stemmmer_words=[port_stemmer.stem(word) for word in words]\n",
    "print(stemmmer_words)\n",
    "stemmmer_words=[regex_stemmer.stem(word) for word in words]\n",
    "print(stemmmer_words)\n",
    "stemmmer_words=[snowball_stemmer.stem(word) for word in words]\n",
    "print(stemmmer_words)"
   ]
  },
  {
   "cell_type": "code",
   "execution_count": null,
   "id": "79086d34",
   "metadata": {},
   "outputs": [],
   "source": []
  }
 ],
 "metadata": {
  "kernelspec": {
   "display_name": "Python 3",
   "language": "python",
   "name": "python3"
  },
  "language_info": {
   "codemirror_mode": {
    "name": "ipython",
    "version": 3
   },
   "file_extension": ".py",
   "mimetype": "text/x-python",
   "name": "python",
   "nbconvert_exporter": "python",
   "pygments_lexer": "ipython3",
   "version": "3.10.12"
  }
 },
 "nbformat": 4,
 "nbformat_minor": 5
}
