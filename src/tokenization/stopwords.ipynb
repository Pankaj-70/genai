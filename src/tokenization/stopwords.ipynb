{
 "cells": [
  {
   "cell_type": "code",
   "execution_count": 2,
   "metadata": {},
   "outputs": [],
   "source": [
    "from nltk.corpus import stopwords"
   ]
  },
  {
   "cell_type": "code",
   "execution_count": 5,
   "metadata": {},
   "outputs": [
    {
     "name": "stderr",
     "output_type": "stream",
     "text": [
      "[nltk_data] Downloading package stopwords to\n",
      "[nltk_data]     /home/georgian/nltk_data...\n",
      "[nltk_data]   Unzipping corpora/stopwords.zip.\n"
     ]
    },
    {
     "data": {
      "text/plain": [
       "True"
      ]
     },
     "execution_count": 5,
     "metadata": {},
     "output_type": "execute_result"
    }
   ],
   "source": [
    "import nltk\n",
    "nltk.download('stopwords')"
   ]
  },
  {
   "cell_type": "code",
   "execution_count": 7,
   "metadata": {},
   "outputs": [],
   "source": [
    "# stopwords.words('english')"
   ]
  },
  {
   "cell_type": "code",
   "execution_count": 8,
   "metadata": {},
   "outputs": [],
   "source": [
    "text=\"\"\"I have three visions for India. In 3000 years of our history people from all over the world have come and invaded us, captured our lands, conquered our minds. From Alexander onwards the Greeks, the Turks, the Moguls, the Portuguese, the British, the French, the Dutch, all of them came and looted us, took over what was ours. Yet we have not done this to any other nation. We have not conquered anyone. We have not grabbed their land, their culture and their history and tried to enforce our way of life on them. Why? Because we respect the freedom of others. That is why my FIRST VISION is that of FREEDOM. I believe that India got its first vision of this in 1857, when we started the war of Independence. It is this freedom that we must protect and nurture and build on. If we are not free, no one will respect us.\n",
    "\n",
    "We have 10 percent growth rate in most areas. Our poverty levels are falling. Our achievements are being globally recognised today. Yet we lack the self-confidence to see ourselves as a developed nation, self-reliant and self-assured. Isn’t this incorrect? MY SECOND VISION for India is DEVELOPMENT. For fifty years we have been a developing nation. It is time we see ourselves as a developed nation. We are among top five nations in the world in terms of GDP.\n",
    "\n",
    "I have a THIRD VISION. India must stand up to the world. Because I believe that unless India stands up to the world, no one will respect us. Only strength respects strength. We must be strong not only as a military power but also as an economic power. Both must go hand-in-hand. My good fortune was to have worked with three great minds. Dr.Vikram Sarabhai, of the Dept. of Space, Professor Satish Dhawan, who succeeded him and Dr. Brahm Prakash, father of nuclear material. I was lucky to have worked with all three of them closely and consider this the great opportunity of my life.\n",
    "\n",
    "I was in Hyderabad giving this lecture, when a 14 year-old girl asked me for my autograph. I asked her what her goal in life is. She replied: I want to live in a developed India. For her, you and I will have to build this developed India. You must proclaim India is not an underdeveloped nation; it is a highly developed nation.\n",
    "\n",
    "You say that our government is inefficient. You say that our laws are too old. You say that the municipality does not pick up the garbage. You say that the phones don’t work, the railways are a joke, the airline is the worst in the world, and mails never reach their destination. You say that our country has been fed to the dogs and is the absolute pits. You say, say and say. What do you do about it?\"\"\"\n",
    "\n"
   ]
  },
  {
   "cell_type": "code",
   "execution_count": 9,
   "metadata": {},
   "outputs": [],
   "source": [
    "from nltk.stem import WordNetLemmatizer\n",
    "lemmatizer=WordNetLemmatizer()\n"
   ]
  },
  {
   "cell_type": "code",
   "execution_count": 13,
   "metadata": {},
   "outputs": [
    {
     "name": "stdout",
     "output_type": "stream",
     "text": [
      "['I have three visions for India.', 'In 3000 years of our history people from all over the world have come and invaded us, captured our lands, conquered our minds.', 'From Alexander onwards the Greeks, the Turks, the Moguls, the Portuguese, the British, the French, the Dutch, all of them came and looted us, took over what was ours.', 'Yet we have not done this to any other nation.', 'We have not conquered anyone.', 'We have not grabbed their land, their culture and their history and tried to enforce our way of life on them.', 'Why?', 'Because we respect the freedom of others.', 'That is why my FIRST VISION is that of FREEDOM.', 'I believe that India got its first vision of this in 1857, when we started the war of Independence.', 'It is this freedom that we must protect and nurture and build on.', 'If we are not free, no one will respect us.', 'We have 10 percent growth rate in most areas.', 'Our poverty levels are falling.', 'Our achievements are being globally recognised today.', 'Yet we lack the self-confidence to see ourselves as a developed nation, self-reliant and self-assured.', 'Isn’t this incorrect?', 'MY SECOND VISION for India is DEVELOPMENT.', 'For fifty years we have been a developing nation.', 'It is time we see ourselves as a developed nation.', 'We are among top five nations in the world in terms of GDP.', 'I have a THIRD VISION.', 'India must stand up to the world.', 'Because I believe that unless India stands up to the world, no one will respect us.', 'Only strength respects strength.', 'We must be strong not only as a military power but also as an economic power.', 'Both must go hand-in-hand.', 'My good fortune was to have worked with three great minds.', 'Dr.Vikram Sarabhai, of the Dept.', 'of Space, Professor Satish Dhawan, who succeeded him and Dr. Brahm Prakash, father of nuclear material.', 'I was lucky to have worked with all three of them closely and consider this the great opportunity of my life.', 'I was in Hyderabad giving this lecture, when a 14 year-old girl asked me for my autograph.', 'I asked her what her goal in life is.', 'She replied: I want to live in a developed India.', 'For her, you and I will have to build this developed India.', 'You must proclaim India is not an underdeveloped nation; it is a highly developed nation.', 'You say that our government is inefficient.', 'You say that our laws are too old.', 'You say that the municipality does not pick up the garbage.', 'You say that the phones don’t work, the railways are a joke, the airline is the worst in the world, and mails never reach their destination.', 'You say that our country has been fed to the dogs and is the absolute pits.', 'You say, say and say.', 'What do you do about it?']\n"
     ]
    }
   ],
   "source": [
    "sentences=nltk.sent_tokenize(text)\n",
    "print(sentences)"
   ]
  },
  {
   "cell_type": "code",
   "execution_count": 14,
   "metadata": {},
   "outputs": [
    {
     "name": "stdout",
     "output_type": "stream",
     "text": [
      "['I three visions India .', 'In 3000 years history people world come invade us , capture land , conquer mind .', 'From Alexander onwards Greeks , Turks , Moguls , Portuguese , British , French , Dutch , come loot us , take .', 'Yet do nation .', 'We conquer anyone .', 'We grab land , culture history try enforce way life .', 'Why ?', 'Because respect freedom others .', 'That FIRST VISION FREEDOM .', 'I believe India get first vision 1857 , start war Independence .', 'It freedom must protect nurture build .', 'If free , one respect us .', 'We 10 percent growth rate areas .', 'Our poverty level fall .', 'Our achievements globally recognise today .', 'Yet lack self-confidence see develop nation , self-reliant self-assured .', 'Isn ’ incorrect ?', 'MY SECOND VISION India DEVELOPMENT .', 'For fifty years develop nation .', 'It time see develop nation .', 'We among top five nations world term GDP .', 'I THIRD VISION .', 'India must stand world .', 'Because I believe unless India stand world , one respect us .', 'Only strength respect strength .', 'We must strong military power also economic power .', 'Both must go hand-in-hand .', 'My good fortune work three great mind .', 'Dr.Vikram Sarabhai , Dept .', 'Space , Professor Satish Dhawan , succeed Dr. Brahm Prakash , father nuclear material .', 'I lucky work three closely consider great opportunity life .', 'I Hyderabad give lecture , 14 year-old girl ask autograph .', 'I ask goal life .', 'She reply : I want live develop India .', 'For , I build develop India .', 'You must proclaim India underdevelop nation ; highly develop nation .', 'You say government inefficient .', 'You say laws old .', 'You say municipality pick garbage .', 'You say phone ’ work , railways joke , airline worst world , mail never reach destination .', 'You say country feed dog absolute pit .', 'You say , say say .', 'What ?']\n"
     ]
    }
   ],
   "source": [
    "for i in range(len(sentences)):\n",
    "    words=nltk.word_tokenize(sentences[i])\n",
    "    words=[lemmatizer.lemmatize(word,'v') for word in words if word not in stopwords.words('english')]\n",
    "    sentences[i]=' '.join(words)\n",
    "print(sentences)"
   ]
  },
  {
   "cell_type": "code",
   "execution_count": null,
   "metadata": {},
   "outputs": [],
   "source": []
  }
 ],
 "metadata": {
  "kernelspec": {
   "display_name": "Python 3",
   "language": "python",
   "name": "python3"
  },
  "language_info": {
   "codemirror_mode": {
    "name": "ipython",
    "version": 3
   },
   "file_extension": ".py",
   "mimetype": "text/x-python",
   "name": "python",
   "nbconvert_exporter": "python",
   "pygments_lexer": "ipython3",
   "version": "3.10.12"
  }
 },
 "nbformat": 4,
 "nbformat_minor": 2
}
